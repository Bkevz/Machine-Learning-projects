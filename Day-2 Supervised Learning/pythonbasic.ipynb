{
  "cells": [
    {
      "cell_type": "markdown",
      "metadata": {
        "id": "Z3B-WCI53-Q2"
      },
      "source": [
        "Basic Python - Add\n"
      ]
    },
    {
      "cell_type": "code",
      "execution_count": 1,
      "metadata": {
        "colab": {
          "base_uri": "https://localhost:8080/"
        },
        "id": "_sBEAtUw3Zt8",
        "outputId": "04ea4589-a69d-4d2d-b12a-67b2519aada3"
      },
      "outputs": [
        {
          "name": "stdout",
          "output_type": "stream",
          "text": [
            "11\n"
          ]
        }
      ],
      "source": [
        "a=5\n",
        "b=6\n",
        "c=a+b\n",
        "print(c)"
      ]
    },
    {
      "cell_type": "markdown",
      "metadata": {
        "id": "bHxaNHR24U8m"
      },
      "source": [
        "If Condition\n"
      ]
    },
    {
      "cell_type": "code",
      "execution_count": 2,
      "metadata": {
        "colab": {
          "base_uri": "https://localhost:8080/"
        },
        "id": "p7pMyRpY4Xrt",
        "outputId": "9149788d-ec85-4def-c8ce-9b0f9076d7c4"
      },
      "outputs": [
        {
          "name": "stdout",
          "output_type": "stream",
          "text": [
            "a is equal to b\n",
            "b is equal to a\n"
          ]
        }
      ],
      "source": [
        "a=100\n",
        "b=100\n",
        "\n",
        "if(a<b):\n",
        "  print(\"a is less than b\")\n",
        "elif(a==b):\n",
        "  print(\"a is equal to b\")\n",
        "  print(\"b is equal to a\")\n",
        "else:\n",
        "  print(\"a is not less than b\")"
      ]
    },
    {
      "cell_type": "markdown",
      "metadata": {
        "id": "YIxrhnDG4zbE"
      },
      "source": [
        "while"
      ]
    },
    {
      "cell_type": "code",
      "execution_count": 3,
      "metadata": {
        "colab": {
          "base_uri": "https://localhost:8080/"
        },
        "id": "QZ1yKCFm4303",
        "outputId": "be029a80-5fd7-4782-b2e7-2a150ededa75"
      },
      "outputs": [
        {
          "name": "stdout",
          "output_type": "stream",
          "text": [
            "0\n",
            "1\n",
            "2\n",
            "3\n",
            "4\n",
            "5\n",
            "6\n",
            "7\n",
            "8\n",
            "9\n"
          ]
        }
      ],
      "source": [
        "i=0\n",
        "while(i<10):\n",
        "  print(i)\n",
        "  i+=1"
      ]
    },
    {
      "cell_type": "markdown",
      "metadata": {
        "id": "ksklJls95G-3"
      },
      "source": [
        "for range"
      ]
    },
    {
      "cell_type": "code",
      "execution_count": 4,
      "metadata": {
        "colab": {
          "base_uri": "https://localhost:8080/"
        },
        "id": "TXpM_cbZ5I3R",
        "outputId": "5af569db-dfc8-4bcb-fce6-016dc2f08690"
      },
      "outputs": [
        {
          "name": "stdout",
          "output_type": "stream",
          "text": [
            "11\n",
            "9\n",
            "7\n",
            "5\n",
            "3\n"
          ]
        }
      ],
      "source": [
        "for i in range(11,1,-2):\n",
        "  print(i)"
      ]
    }
  ],
  "metadata": {
    "colab": {
      "name": "pythonbasic.ipynb",
      "provenance": []
    },
    "kernelspec": {
      "display_name": "Python 3",
      "name": "python3"
    },
    "language_info": {
      "codemirror_mode": {
        "name": "ipython",
        "version": 3
      },
      "file_extension": ".py",
      "mimetype": "text/x-python",
      "name": "python",
      "nbconvert_exporter": "python",
      "pygments_lexer": "ipython3",
      "version": "3.7.8"
    }
  },
  "nbformat": 4,
  "nbformat_minor": 0
}
