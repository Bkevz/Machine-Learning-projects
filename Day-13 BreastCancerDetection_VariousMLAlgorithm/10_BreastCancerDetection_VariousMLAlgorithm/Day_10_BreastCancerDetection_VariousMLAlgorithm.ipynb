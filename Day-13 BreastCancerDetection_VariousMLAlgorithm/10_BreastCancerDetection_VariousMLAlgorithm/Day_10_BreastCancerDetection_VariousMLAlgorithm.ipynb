{
  "nbformat": 4,
  "nbformat_minor": 0,
  "metadata": {
    "colab": {
      "name": "Day-10_BreastCancerDetection_VariousMLAlgorithm.ipynb",
      "provenance": [],
      "collapsed_sections": []
    },
    "kernelspec": {
      "name": "python3",
      "display_name": "Python 3"
    },
    "language_info": {
      "name": "python"
    }
  },
  "cells": [
    {
      "cell_type": "markdown",
      "metadata": {
        "id": "AhpeX5Dm_eLW"
      },
      "source": [
        "# **Day-10_BreastCancerDetection_VariousMLAlgorithm**"
      ]
    },
    {
      "cell_type": "markdown",
      "metadata": {
        "id": "8rvHswu2td0Z"
      },
      "source": [
        "### *Importing Libraries*"
      ]
    },
    {
      "cell_type": "code",
      "metadata": {
        "id": "P-YXxKhu_Uk4"
      },
      "source": [
        "import pandas as pd #useful for loading the dataset\n",
        "import numpy as np #to perform array\n",
        "from matplotlib import pyplot"
      ],
      "execution_count": null,
      "outputs": []
    },
    {
      "cell_type": "markdown",
      "metadata": {
        "id": "mOt3nocbwvZk"
      },
      "source": [
        "### *Choose Dataset from Local Directory*"
      ]
    },
    {
      "cell_type": "code",
      "metadata": {
        "id": "xB2NMwXtw2dG"
      },
      "source": [
        "from google.colab import files\n",
        "uploaded = files.upload()"
      ],
      "execution_count": null,
      "outputs": []
    },
    {
      "cell_type": "markdown",
      "metadata": {
        "id": "69Kx6TycwzHo"
      },
      "source": [
        "### *Load Dataset*"
      ]
    },
    {
      "cell_type": "code",
      "metadata": {
        "id": "7aXWQK9Cw7Dz"
      },
      "source": [
        "dataset = pd.read_csv('data.csv')"
      ],
      "execution_count": null,
      "outputs": []
    },
    {
      "cell_type": "markdown",
      "metadata": {
        "id": "huZ5AaCtxD0p"
      },
      "source": [
        "### *Summarize Dataset*"
      ]
    },
    {
      "cell_type": "code",
      "metadata": {
        "id": "SmD4EDrkxFzq"
      },
      "source": [
        "print(dataset.shape)\n",
        "print(dataset.head(5))"
      ],
      "execution_count": null,
      "outputs": []
    },
    {
      "cell_type": "markdown",
      "metadata": {
        "id": "-MFwV-9k3Tu1"
      },
      "source": [
        "### *Mapping Class String Values to Numbers*"
      ]
    },
    {
      "cell_type": "code",
      "metadata": {
        "id": "yJvwzEfF3ZMe"
      },
      "source": [
        "dataset['diagnosis'] = dataset['diagnosis'].map({'B': 0, 'M': 1}).astype(int)\n",
        "print(dataset.head)"
      ],
      "execution_count": null,
      "outputs": []
    },
    {
      "cell_type": "markdown",
      "metadata": {
        "id": "0qgR6rGRxH5y"
      },
      "source": [
        "### *Segregate Dataset into X(Input/IndependentVariable) & Y(Output/DependentVariable)*"
      ]
    },
    {
      "cell_type": "code",
      "metadata": {
        "id": "8qOVIILpxefB"
      },
      "source": [
        "X = dataset.iloc[:, 2:32].values\n",
        "X"
      ],
      "execution_count": null,
      "outputs": []
    },
    {
      "cell_type": "code",
      "metadata": {
        "id": "TE6LNAwmxkBn"
      },
      "source": [
        "Y = dataset.iloc[:,1].values\n",
        "Y"
      ],
      "execution_count": null,
      "outputs": []
    },
    {
      "cell_type": "markdown",
      "metadata": {
        "id": "oOzExtMjxmup"
      },
      "source": [
        "### *Splitting Dataset into Train & Test*"
      ]
    },
    {
      "cell_type": "code",
      "metadata": {
        "id": "uJXcK2PHxqJ9"
      },
      "source": [
        "from sklearn.model_selection import train_test_split\n",
        "X_train, X_test, y_train, y_test = train_test_split(X, Y, test_size = 0.25, random_state = 0)"
      ],
      "execution_count": null,
      "outputs": []
    },
    {
      "cell_type": "markdown",
      "metadata": {
        "id": "89y8rh-3yv15"
      },
      "source": [
        "### *Feature Scaling*\n",
        "### we scale our data to make all the features contribute equally to the result\n",
        "###Fit_Transform - fit method is calculating the mean and variance of each of the features present in our data\n",
        "###Transform - Transform method is transforming all the features using the respective mean and variance, \n",
        "###We want our test data to be a completely new and a surprise set for our model"
      ]
    },
    {
      "cell_type": "code",
      "metadata": {
        "id": "ehsC_5BSy-Pa"
      },
      "source": [
        "from sklearn.preprocessing import StandardScaler\n",
        "sc = StandardScaler()\n",
        "X_train = sc.fit_transform(X_train) \n",
        "X_test = sc.transform(X_test)"
      ],
      "execution_count": null,
      "outputs": []
    },
    {
      "cell_type": "markdown",
      "metadata": {
        "id": "X1gsZ3YZ51gz"
      },
      "source": [
        "### *Validating some ML algorithm by its accuracy - Model Score*"
      ]
    },
    {
      "cell_type": "code",
      "metadata": {
        "id": "ekrjJPx_5-rJ"
      },
      "source": [
        "from sklearn.discriminant_analysis import LinearDiscriminantAnalysis\n",
        "from sklearn.linear_model import LogisticRegression\n",
        "from sklearn.tree import DecisionTreeClassifier\n",
        "from sklearn.neighbors import KNeighborsClassifier\n",
        "from sklearn.naive_bayes import GaussianNB\n",
        "from sklearn.svm import SVC\n",
        "\n",
        "from sklearn.model_selection import cross_val_score\n",
        "from sklearn.model_selection import StratifiedKFold"
      ],
      "execution_count": null,
      "outputs": []
    },
    {
      "cell_type": "code",
      "metadata": {
        "id": "7fmWEBDq6fUM"
      },
      "source": [
        "models = []\n",
        "models.append(('LR', LogisticRegression(solver='liblinear', multi_class='ovr')))\n",
        "models.append(('LDA', LinearDiscriminantAnalysis()))\n",
        "models.append(('KNN', KNeighborsClassifier()))\n",
        "models.append(('CART', DecisionTreeClassifier()))\n",
        "models.append(('NB', GaussianNB()))\n",
        "models.append(('SVM', SVC(gamma='auto')))"
      ],
      "execution_count": null,
      "outputs": []
    },
    {
      "cell_type": "code",
      "metadata": {
        "id": "r0dYFpqw6iXs"
      },
      "source": [
        "results = []\n",
        "names = []\n",
        "res = []\n",
        "for name, model in models:\n",
        "    kfold = StratifiedKFold(n_splits=10, random_state=None)\n",
        "    cv_results = cross_val_score(model, X_train, y_train, cv=kfold, scoring='accuracy')\n",
        "    results.append(cv_results)\n",
        "    names.append(name)\n",
        "    res.append(cv_results.mean())\n",
        "    print('%s: %f' % (name, cv_results.mean()))\n",
        "\n",
        "pyplot.ylim(.900, .999)\n",
        "pyplot.bar(names, res, color ='maroon', width = 0.6)\n",
        "\n",
        "pyplot.title('Algorithm Comparison')\n",
        "pyplot.show()"
      ],
      "execution_count": null,
      "outputs": []
    },
    {
      "cell_type": "markdown",
      "metadata": {
        "id": "ospEktZ3_KgQ"
      },
      "source": [
        "### *Training & Prediction using the algorithm with high accuracy*"
      ]
    },
    {
      "cell_type": "code",
      "metadata": {
        "id": "zbi3Uvd0_Yn7"
      },
      "source": [
        "from sklearn.svm import SVC\n",
        "model.fit(X_train, y_train)\n",
        "y_pred = model.predict(X_test)\n",
        "print(np.concatenate((y_pred.reshape(len(y_pred),1), y_test.reshape(len(y_test),1)),1))"
      ],
      "execution_count": null,
      "outputs": []
    }
  ]
}