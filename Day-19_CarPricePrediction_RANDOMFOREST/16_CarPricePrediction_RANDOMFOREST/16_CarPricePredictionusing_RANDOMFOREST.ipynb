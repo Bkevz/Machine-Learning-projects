{
  "nbformat": 4,
  "nbformat_minor": 0,
  "metadata": {
    "colab": {
      "name": "16_CarPricePredictionusing_RANDOMFOREST.ipynb",
      "provenance": [],
      "collapsed_sections": []
    },
    "kernelspec": {
      "name": "python3",
      "display_name": "Python 3"
    },
    "language_info": {
      "name": "python"
    }
  },
  "cells": [
    {
      "cell_type": "markdown",
      "metadata": {
        "id": "vBPyEplZTYQ-"
      },
      "source": [
        "# **Day-16 | Car Price Prediction using RANDOM FOREST**"
      ]
    },
    {
      "cell_type": "code",
      "metadata": {
        "id": "ThDmNqanTWZ6"
      },
      "source": [
        "import pandas as pd"
      ],
      "execution_count": null,
      "outputs": []
    },
    {
      "cell_type": "markdown",
      "metadata": {
        "id": "ZZi4VDTITrna"
      },
      "source": [
        "# *Load Dataset from Local directory*"
      ]
    },
    {
      "cell_type": "code",
      "metadata": {
        "id": "_e_nCgzjTtKZ"
      },
      "source": [
        "from google.colab import files\n",
        "uploaded = files.upload()"
      ],
      "execution_count": null,
      "outputs": []
    },
    {
      "cell_type": "markdown",
      "metadata": {
        "id": "uCexKWWzUCFz"
      },
      "source": [
        "# *Load Dataset*"
      ]
    },
    {
      "cell_type": "code",
      "metadata": {
        "id": "3WdAk6WFUEwk"
      },
      "source": [
        "dataset = pd.read_csv('dataset.csv')\n",
        "dataset = dataset.drop(['car_ID'],axis=1)"
      ],
      "execution_count": null,
      "outputs": []
    },
    {
      "cell_type": "markdown",
      "metadata": {
        "id": "ZfXS387YT5nm"
      },
      "source": [
        "### *Summarize Dataset*"
      ]
    },
    {
      "cell_type": "code",
      "metadata": {
        "id": "4RYyqUj1T8x9"
      },
      "source": [
        "print(dataset.shape)\n",
        "print(dataset.head(5))"
      ],
      "execution_count": null,
      "outputs": []
    },
    {
      "cell_type": "markdown",
      "metadata": {
        "id": "cL4m_Zwd3fIG"
      },
      "source": [
        "### *Splitting Dataset into X & Y*\n",
        "### *This X contains Both Numerical & Text Data*"
      ]
    },
    {
      "cell_type": "code",
      "metadata": {
        "id": "XQhO2v6Q3sRY"
      },
      "source": [
        "Xdata = dataset.drop('price',axis='columns')\n",
        "numericalCols=Xdata.select_dtypes(exclude=['object']).columns\n",
        "X=Xdata[numericalCols]\n",
        "X"
      ],
      "execution_count": null,
      "outputs": []
    },
    {
      "cell_type": "code",
      "metadata": {
        "id": "u7B0WWoB6Oic"
      },
      "source": [
        "Y = dataset['price']\n",
        "Y"
      ],
      "execution_count": null,
      "outputs": []
    },
    {
      "cell_type": "markdown",
      "metadata": {
        "id": "LKeaTIwD6l0u"
      },
      "source": [
        "### *Scaling the Independent Variables (Features)*"
      ]
    },
    {
      "cell_type": "code",
      "metadata": {
        "id": "CC9Ms9Xz6yIz"
      },
      "source": [
        "from sklearn.preprocessing import scale\n",
        "cols = X.columns\n",
        "X = pd.DataFrame(scale(X))\n",
        "X.columns = cols\n",
        "X"
      ],
      "execution_count": null,
      "outputs": []
    },
    {
      "cell_type": "markdown",
      "metadata": {
        "id": "X6AFl60n7TFV"
      },
      "source": [
        "### *Splitting Dataset into Train & Test*"
      ]
    },
    {
      "cell_type": "code",
      "metadata": {
        "id": "8rj22XPE7akT"
      },
      "source": [
        "from sklearn.model_selection import train_test_split\n",
        "x_train,x_test,y_train,y_test = train_test_split(X,Y,test_size=0.20,random_state=0)"
      ],
      "execution_count": null,
      "outputs": []
    },
    {
      "cell_type": "markdown",
      "metadata": {
        "id": "0mfruxg8716s"
      },
      "source": [
        "### *Training using Random Forest*"
      ]
    },
    {
      "cell_type": "code",
      "metadata": {
        "id": "X72lPbl_75j9"
      },
      "source": [
        "from sklearn.ensemble import RandomForestRegressor\n",
        "model = RandomForestRegressor()\n",
        "model.fit(x_train, y_train)"
      ],
      "execution_count": null,
      "outputs": []
    },
    {
      "cell_type": "markdown",
      "metadata": {
        "id": "VCPUoPp98KQu"
      },
      "source": [
        "### *Evaluating Model*"
      ]
    },
    {
      "cell_type": "code",
      "metadata": {
        "id": "QOszf8Vp8MzQ"
      },
      "source": [
        "ypred = model.predict(x_test)\n",
        "\n",
        "from sklearn.metrics import r2_score\n",
        "r2score = r2_score(y_test,ypred)\n",
        "print(\"R2Score\",r2score*100)"
      ],
      "execution_count": null,
      "outputs": []
    }
  ]
}