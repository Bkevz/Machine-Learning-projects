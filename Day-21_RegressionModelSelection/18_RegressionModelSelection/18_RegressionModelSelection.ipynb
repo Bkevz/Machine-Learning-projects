{
  "nbformat": 4,
  "nbformat_minor": 0,
  "metadata": {
    "colab": {
      "name": "18_RegressionModelSelection.ipynb",
      "provenance": [],
      "collapsed_sections": []
    },
    "kernelspec": {
      "name": "python3",
      "display_name": "Python 3"
    }
  },
  "cells": [
    {
      "cell_type": "markdown",
      "metadata": {
        "id": "r3cas2_1T98w"
      },
      "source": [
        "# Regression Model Selection"
      ]
    },
    {
      "cell_type": "markdown",
      "metadata": {
        "id": "IODliia6U1xO"
      },
      "source": [
        "## Importing the basic libraries"
      ]
    },
    {
      "cell_type": "code",
      "metadata": {
        "id": "y98nA5UdU6Hf"
      },
      "source": [
        "import numpy as np\n",
        "import matplotlib.pyplot as plt\n",
        "import pandas as pd"
      ],
      "execution_count": null,
      "outputs": []
    },
    {
      "cell_type": "markdown",
      "metadata": {
        "id": "2hRC6YEod9_8"
      },
      "source": [
        "### Load Dataset from Local Directory"
      ]
    },
    {
      "cell_type": "code",
      "metadata": {
        "id": "tZBTr4JHeAzb"
      },
      "source": [
        "from google.colab import files\n",
        "uploaded = files.upload()"
      ],
      "execution_count": null,
      "outputs": []
    },
    {
      "cell_type": "markdown",
      "metadata": {
        "id": "jpjZ43YlU8eI"
      },
      "source": [
        "## Importing the dataset"
      ]
    },
    {
      "cell_type": "code",
      "metadata": {
        "id": "pLVaXoYVU_Uy"
      },
      "source": [
        "dataset = pd.read_csv('dataset.csv')\n",
        "X = dataset.iloc[:, :-1].values\n",
        "y = dataset.iloc[:, -1].values\n",
        "ysvm = y.reshape(len(y),1)"
      ],
      "execution_count": null,
      "outputs": []
    },
    {
      "cell_type": "markdown",
      "metadata": {
        "id": "tPJXMyyUJbWn"
      },
      "source": [
        "## Splitting the dataset into the Training set and Test set"
      ]
    },
    {
      "cell_type": "code",
      "metadata": {
        "id": "rFOzpjaiJd5B"
      },
      "source": [
        "from sklearn.model_selection import train_test_split\n",
        "X_train, X_test, y_train, y_test = train_test_split(X, y, test_size = 0.2, random_state = 0)\n",
        "X_trainsvm, X_testsvm, y_trainsvm, y_testsvm = train_test_split(X, ysvm, test_size = 0.2, random_state = 0)"
      ],
      "execution_count": null,
      "outputs": []
    },
    {
      "cell_type": "markdown",
      "metadata": {
        "id": "5bU75GVthaOj"
      },
      "source": [
        "### Importing Machine Learning Algorithms"
      ]
    },
    {
      "cell_type": "code",
      "metadata": {
        "id": "YF8HkKVYhag7"
      },
      "source": [
        "from sklearn.linear_model import LinearRegression\n",
        "from sklearn.preprocessing import PolynomialFeatures\n",
        "from sklearn.ensemble import RandomForestRegressor\n",
        "from sklearn.tree import DecisionTreeRegressor\n",
        "from sklearn.svm import SVR"
      ],
      "execution_count": null,
      "outputs": []
    },
    {
      "cell_type": "markdown",
      "metadata": {
        "id": "g16qFkFQVC35"
      },
      "source": [
        "## Initializing different Regression algorithms"
      ]
    },
    {
      "cell_type": "code",
      "metadata": {
        "id": "SLDKyv1SVUqS"
      },
      "source": [
        "from sklearn.preprocessing import StandardScaler\n",
        "\n",
        "modelLR  = LinearRegression()\n",
        "\n",
        "poly_reg = PolynomialFeatures(degree = 4)\n",
        "X_poly   = poly_reg.fit_transform(X_train)\n",
        "modelPLR = LinearRegression()\n",
        "\n",
        "modelRFR = RandomForestRegressor(n_estimators = 10, random_state = 0)\n",
        "\n",
        "modelDTR = DecisionTreeRegressor(random_state = 0)\n",
        "\n",
        "modelSVR = SVR(kernel = 'rbf')\n",
        "\n",
        "sc_X     = StandardScaler()\n",
        "sc_y     = StandardScaler()\n",
        "X_trainsvm  = sc_X.fit_transform(X_trainsvm)\n",
        "y_trainsvm  = sc_y.fit_transform(y_trainsvm)"
      ],
      "execution_count": null,
      "outputs": []
    },
    {
      "cell_type": "markdown",
      "metadata": {
        "id": "ePPz0Lu6fXfN"
      },
      "source": [
        "### Training Regression algorithm"
      ]
    },
    {
      "cell_type": "code",
      "metadata": {
        "id": "oHhA2uoyfEK2"
      },
      "source": [
        "modelLR.fit(X_train, y_train)\n",
        "modelPLR.fit(X_poly, y_train)\n",
        "modelRFR.fit(X_train, y_train)\n",
        "modelDTR.fit(X_train, y_train)\n",
        "modelSVR.fit(X_trainsvm, y_trainsvm)"
      ],
      "execution_count": null,
      "outputs": []
    },
    {
      "cell_type": "markdown",
      "metadata": {
        "id": "Nao9cdO6IgNb"
      },
      "source": [
        "## Predicting the Test set for Validation"
      ]
    },
    {
      "cell_type": "code",
      "metadata": {
        "id": "EebHA3EOIkQK"
      },
      "source": [
        "modelLRy_pred  = modelLR.predict(X_test)\n",
        "modelPLRy_pred = modelPLR.predict(poly_reg.transform(X_test))\n",
        "modelRFRy_pred = modelRFR.predict(X_test)\n",
        "modelDTRy_pred = modelDTR.predict(X_test)\n",
        "modelSVRy_pred = sc_y.inverse_transform(modelSVR.predict(sc_X.transform(X_test)))"
      ],
      "execution_count": null,
      "outputs": []
    },
    {
      "cell_type": "markdown",
      "metadata": {
        "id": "V4nELFnnIod1"
      },
      "source": [
        "## Evaluating the Model Performance"
      ]
    },
    {
      "cell_type": "code",
      "metadata": {
        "id": "_G2QS1UoIsTZ"
      },
      "source": [
        "from sklearn.metrics import r2_score\n",
        "print(\"Linear Regression Accuracy: {}\".format(r2_score(y_test, modelLRy_pred)))\n",
        "print(\"Polynomial Regression Accuracy: {}\".format(r2_score(y_test, modelPLRy_pred)))\n",
        "print(\"Random Forest Regression Accuracy: {}\".format(r2_score(y_test, modelRFRy_pred)))\n",
        "print(\"Decision Treee Regression Accuracy: {}\".format(r2_score(y_test, modelDTRy_pred)))\n",
        "print(\"Support Vector Regression Accuracy: {}\".format(r2_score(y_test, modelSVRy_pred)))"
      ],
      "execution_count": null,
      "outputs": []
    }
  ]
}