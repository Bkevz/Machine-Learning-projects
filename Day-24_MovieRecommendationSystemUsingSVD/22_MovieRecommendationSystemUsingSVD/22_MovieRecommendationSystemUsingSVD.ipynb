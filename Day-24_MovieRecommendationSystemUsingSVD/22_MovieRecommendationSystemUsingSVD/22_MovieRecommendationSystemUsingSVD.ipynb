{
  "nbformat": 4,
  "nbformat_minor": 0,
  "metadata": {
    "colab": {
      "name": "22_MovieRecommendationSystemUsingSVD.ipynb",
      "provenance": [],
      "collapsed_sections": []
    },
    "kernelspec": {
      "name": "python3",
      "display_name": "Python 3"
    }
  },
  "cells": [
    {
      "cell_type": "markdown",
      "metadata": {
        "id": "r3cas2_1T98w"
      },
      "source": [
        "#22 Movie Recommendation System Using SVD"
      ]
    },
    {
      "cell_type": "markdown",
      "metadata": {
        "id": "IODliia6U1xO"
      },
      "source": [
        "### Importing the basic libraries"
      ]
    },
    {
      "cell_type": "code",
      "metadata": {
        "id": "y98nA5UdU6Hf"
      },
      "source": [
        "import numpy as np\n",
        "import pandas as pd"
      ],
      "execution_count": null,
      "outputs": []
    },
    {
      "cell_type": "markdown",
      "metadata": {
        "id": "jpjZ43YlU8eI"
      },
      "source": [
        "### Importing & Parsing the dataset as ratings and movies details"
      ]
    },
    {
      "cell_type": "code",
      "metadata": {
        "id": "pLVaXoYVU_Uy"
      },
      "source": [
        "ratingData = pd.io.parsers.read_csv('ratings.dat', \n",
        "    names=['user_id', 'movie_id', 'rating', 'time'],\n",
        "    engine='python', delimiter='::')\n",
        "movieData = pd.io.parsers.read_csv('movies.dat',\n",
        "    names=['movie_id', 'title', 'genre'],\n",
        "    engine='python', delimiter='::')\n",
        "print(ratingData)"
      ],
      "execution_count": null,
      "outputs": []
    },
    {
      "cell_type": "markdown",
      "metadata": {
        "id": "fLBaNX8cVymm"
      },
      "source": [
        "### Create the ratings matrix of shape (m×u)"
      ]
    },
    {
      "cell_type": "code",
      "metadata": {
        "id": "lBgHJ6c7gDn2"
      },
      "source": [
        "ratingMatrix = np.ndarray(\n",
        "    shape=(np.max(ratingData.movie_id.values), np.max(ratingData.user_id.values)),\n",
        "    dtype=np.uint8)\n",
        "ratingMatrix[ratingData.movie_id.values-1, ratingData.user_id.values-1] = ratingData.rating.values\n",
        "print(ratingMatrix)"
      ],
      "execution_count": null,
      "outputs": []
    },
    {
      "cell_type": "markdown",
      "metadata": {
        "id": "n90Tb_w9V-vn"
      },
      "source": [
        "### Subtract Mean off - Normalization"
      ]
    },
    {
      "cell_type": "code",
      "metadata": {
        "id": "pm6q3gWXgG_1"
      },
      "source": [
        "normalizedMatrix = ratingMatrix - np.asarray([(np.mean(ratingMatrix, 1))]).T\n",
        "print(normalizedMatrix)"
      ],
      "execution_count": null,
      "outputs": []
    },
    {
      "cell_type": "markdown",
      "metadata": {
        "id": "zoIEOorVTzD9"
      },
      "source": [
        "### Computing SVD"
      ]
    },
    {
      "cell_type": "code",
      "metadata": {
        "id": "wOuthXLlT0GI"
      },
      "source": [
        "A = normalizedMatrix.T / np.sqrt(ratingMatrix.shape[0] - 1)\n",
        "U, S, V = np.linalg.svd(A)"
      ],
      "execution_count": null,
      "outputs": []
    },
    {
      "cell_type": "markdown",
      "metadata": {
        "id": "58ZB1rCZUVfH"
      },
      "source": [
        "### Calculate cosine similarity, sort by most similar and return the top N"
      ]
    },
    {
      "cell_type": "code",
      "metadata": {
        "id": "0K7mijvHUW6Z"
      },
      "source": [
        "def similar(ratingData, movie_id, top_n):\n",
        "    index = movie_id - 1 # Movie id starts from 1\n",
        "    movie_row = ratingData[index, :]\n",
        "    magnitude = np.sqrt(np.einsum('ij, ij -> i', ratingData, ratingData)) #Einstein summation |  traditional matrix multiplication and is equivalent to np.matmul(a,b)\n",
        "    similarity = np.dot(movie_row, ratingData.T) / (magnitude[index] * magnitude)\n",
        "    sort_indexes = np.argsort(-similarity) #Perform an indirect sort along the given axis (Last axis)\n",
        "    return sort_indexes[:top_n]"
      ],
      "execution_count": null,
      "outputs": []
    },
    {
      "cell_type": "markdown",
      "metadata": {
        "id": "rTMd_brsUctX"
      },
      "source": [
        "### Select k principal components to represent the movies, a movie_id to find recommendations and print the top_n results"
      ]
    },
    {
      "cell_type": "code",
      "metadata": {
        "id": "PXDHbM4aUdvc"
      },
      "source": [
        "k = 50\n",
        "movie_id = 2\n",
        "top_n = 5\n",
        "\n",
        "sliced = V.T[:, :k] # representative data\n",
        "indexes = similar(sliced, movie_id, top_n)\n",
        "\n",
        "print('Recommendations for Movie {0}: \\n'.format(\n",
        "movieData[movieData.movie_id == movie_id].title.values[0]))\n",
        "for id in indexes + 1:\n",
        "    print(movieData[movieData.movie_id == id].title.values[0])"
      ],
      "execution_count": null,
      "outputs": []
    }
  ]
}