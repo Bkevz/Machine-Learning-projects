{
  "nbformat": 4,
  "nbformat_minor": 0,
  "metadata": {
    "colab": {
      "name": "11 | House price prediction using Linear Regression.ipynb",
      "provenance": [],
      "collapsed_sections": []
    },
    "kernelspec": {
      "name": "python3",
      "display_name": "Python 3"
    },
    "language_info": {
      "name": "python"
    }
  },
  "cells": [
    {
      "cell_type": "markdown",
      "metadata": {
        "id": "I1VRs4tZkbvW"
      },
      "source": [
        "# **Day-11 | House price prediction using Linear Regression-SingleVariable**"
      ]
    },
    {
      "cell_type": "markdown",
      "metadata": {
        "id": "SAFLqwkKk8rK"
      },
      "source": [
        "### *Import Libraries*"
      ]
    },
    {
      "cell_type": "code",
      "metadata": {
        "id": "EgF2lvr_jzVL"
      },
      "source": [
        "import pandas as pd\n",
        "from sklearn.linear_model import LinearRegression \n",
        "import matplotlib.pyplot as plt"
      ],
      "execution_count": null,
      "outputs": []
    },
    {
      "cell_type": "markdown",
      "metadata": {
        "id": "XWe_7j6UjxRj"
      },
      "source": [
        "### *Load Dataset from Local Directory*"
      ]
    },
    {
      "cell_type": "code",
      "metadata": {
        "id": "vKrHCJk_jwfJ"
      },
      "source": [
        "from google.colab import files\n",
        "uploaded = files.upload()"
      ],
      "execution_count": null,
      "outputs": []
    },
    {
      "cell_type": "markdown",
      "metadata": {
        "id": "6gXowmSom462"
      },
      "source": [
        "### *Load Dataset*"
      ]
    },
    {
      "cell_type": "code",
      "metadata": {
        "id": "6JLDHSdym6wP"
      },
      "source": [
        "dataset = pd.read_csv('dataset.csv')"
      ],
      "execution_count": null,
      "outputs": []
    },
    {
      "cell_type": "markdown",
      "metadata": {
        "id": "-DdkIy1ZnDfA"
      },
      "source": [
        "### *Load Summarize*"
      ]
    },
    {
      "cell_type": "code",
      "metadata": {
        "id": "OlElQViRnGFp"
      },
      "source": [
        "print(dataset.shape)\n",
        "print(dataset.head(5))"
      ],
      "execution_count": null,
      "outputs": []
    },
    {
      "cell_type": "markdown",
      "metadata": {
        "id": "p5yk_BN4nMtD"
      },
      "source": [
        "### *Visualize Dataset*"
      ]
    },
    {
      "cell_type": "code",
      "metadata": {
        "id": "a8Mi5nkFnOTQ"
      },
      "source": [
        "plt.xlabel('Area')\n",
        "plt.ylabel('Price')\n",
        "plt.scatter(dataset.area,dataset.price,color='red',marker='*')"
      ],
      "execution_count": null,
      "outputs": []
    },
    {
      "cell_type": "markdown",
      "metadata": {
        "id": "JRyfB6prpJDP"
      },
      "source": [
        "### *Segregate Dataset into Input X & Output Y*"
      ]
    },
    {
      "cell_type": "code",
      "metadata": {
        "id": "x9dQcTohpK1X"
      },
      "source": [
        "X = dataset.drop('price',axis='columns')\n",
        "X"
      ],
      "execution_count": null,
      "outputs": []
    },
    {
      "cell_type": "code",
      "metadata": {
        "id": "SqxVaBO0pf1W"
      },
      "source": [
        "Y = dataset.price\n",
        "Y"
      ],
      "execution_count": null,
      "outputs": []
    },
    {
      "cell_type": "markdown",
      "metadata": {
        "id": "KsDoGjjbpmjk"
      },
      "source": [
        "### *Training Dataset using Linear Regression*"
      ]
    },
    {
      "cell_type": "code",
      "metadata": {
        "id": "nKmEySI1poV_"
      },
      "source": [
        "model = LinearRegression()\n",
        "model.fit(X,Y)"
      ],
      "execution_count": null,
      "outputs": []
    },
    {
      "cell_type": "markdown",
      "metadata": {
        "id": "n-UeFqpGpw9p"
      },
      "source": [
        "### *Predicted Price for Land sq.Feet of custom values*"
      ]
    },
    {
      "cell_type": "code",
      "metadata": {
        "id": "Ollo3wTcpyKQ"
      },
      "source": [
        "x=40000\n",
        "LandAreainSqFt=[[x]]\n",
        "PredictedmodelResult = model.predict(LandAreainSqFt)\n",
        "print(PredictedmodelResult)"
      ],
      "execution_count": null,
      "outputs": []
    },
    {
      "cell_type": "markdown",
      "metadata": {
        "id": "1PbTSCtSp3lC"
      },
      "source": [
        "### Let's check is our model is Right ?\n",
        "### Theory Calculation\n",
        "### Y = m * X + b (m is coefficient and b is intercept)"
      ]
    },
    {
      "cell_type": "markdown",
      "metadata": {
        "id": "T5eVVDPvp8Hc"
      },
      "source": [
        "*Coefficient - m*"
      ]
    },
    {
      "cell_type": "code",
      "metadata": {
        "id": "1SvYtiI2p4ZB"
      },
      "source": [
        "m=model.coef_\n",
        "print(m)"
      ],
      "execution_count": null,
      "outputs": []
    },
    {
      "cell_type": "markdown",
      "metadata": {
        "id": "nSXLgArvqBu2"
      },
      "source": [
        "*Intercept - b*"
      ]
    },
    {
      "cell_type": "code",
      "metadata": {
        "id": "mxyroJ6uqCet"
      },
      "source": [
        "b=model.intercept_\n",
        "print(b)"
      ],
      "execution_count": null,
      "outputs": []
    },
    {
      "cell_type": "markdown",
      "metadata": {
        "id": "VCLG6YIOqEaX"
      },
      "source": [
        "### Y=mx+b\n",
        "*x is Independant variable - Input - area*"
      ]
    },
    {
      "cell_type": "code",
      "metadata": {
        "id": "kRHG8tUFqO1i"
      },
      "source": [
        "y = m*x + b\n",
        "print(\"The Price of {0} Square feet Land is: {1}\".format(x,y[0]))"
      ],
      "execution_count": null,
      "outputs": []
    }
  ]
}